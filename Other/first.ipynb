{
 "cells": [
  {
   "cell_type": "code",
   "execution_count": 1,
   "id": "dc0e9219",
   "metadata": {},
   "outputs": [
    {
     "name": "stdout",
     "output_type": "stream",
     "text": [
      "WARNING:tensorflow:From C:\\Users\\ADMIN\\anaconda3\\Lib\\site-packages\\keras\\src\\losses.py:2976: The name tf.losses.sparse_softmax_cross_entropy is deprecated. Please use tf.compat.v1.losses.sparse_softmax_cross_entropy instead.\n",
      "\n"
     ]
    }
   ],
   "source": [
    "#import libraries import keras\n",
    "from keras.datasets import mnist \n",
    "from keras.models import Sequential\n",
    "from keras.layers import Dense \n",
    "from keras.layers import Dropout\n",
    "from keras.layers import Flatten\n",
    "from keras.layers import Convolution2D\n",
    "from keras.layers import MaxPooling2D \n",
    "from keras.utils import to_categorical\n",
    "from keras import backend as K\n",
    "import numpy\n",
    "import pandas as pd"
   ]
  },
  {
   "cell_type": "code",
   "execution_count": 2,
   "id": "9b41b6c0",
   "metadata": {},
   "outputs": [],
   "source": [
    "#load dataset directly from keras library\n",
    "(X_train, y_train), (X_test, y_test) = mnist.load_data()"
   ]
  },
  {
   "cell_type": "code",
   "execution_count": 3,
   "id": "d0529621",
   "metadata": {},
   "outputs": [
    {
     "data": {
      "image/png": "[encoded data removed]",
      "text/plain": [
       "<Figure size 640x480 with 6 Axes>"
      ]
     },
     "metadata": {},
     "output_type": "display_data"
    }
   ],
   "source": [
    "#plot first six samples of MNIST training dataset as gray scale image \n",
    "import matplotlib.pyplot as plt\n",
    "for i in range(6):\n",
    "    plt.subplot(int(' 23' + str(i+1)))\n",
    "    plt.imshow(X_train[i], cmap=plt.get_cmap('gray'))"
   ]
  },
  {
   "cell_type": "code",
   "execution_count": 4,
   "id": "b91d5d32",
   "metadata": {},
   "outputs": [],
   "source": [
    "#reshape format [samples] [width][height][channels]\n",
    "X_train = X_train.reshape(X_train.shape[0], 28, 28,1).astype( 'float32' )\n",
    "X_test= X_test.reshape(X_test.shape[0], 28, 28,1).astype( 'float32')\n",
    "#Converts a class vector (integers) to binary class matrix\n",
    "y_train = to_categorical (y_train) \n",
    "y_test=to_categorical (y_test)"
   ]
  },
  {
   "cell_type": "code",
   "execution_count": 5,
   "id": "36cb99d6",
   "metadata": {},
   "outputs": [],
   "source": [
    "#normalize inputs\n",
    "X_train =X_train/ 255\n",
    "X_test = X_test / 255"
   ]
  },
  {
   "cell_type": "code",
   "execution_count": 11,
   "id": "718dbbc4",
   "metadata": {},
   "outputs": [
    {
     "ename": "NameError",
     "evalue": "name 'Conv2D' is not defined",
     "output_type": "error",
     "traceback": [
      "\u001b[1;31m---------------------------------------------------------------------------\u001b[0m",
      "\u001b[1;31mNameError\u001b[0m                                 Traceback (most recent call last)",
      "Cell \u001b[1;32mIn[11], line 19\u001b[0m\n\u001b[0;32m     17\u001b[0m     \u001b[38;5;28;01mreturn\u001b[39;00m model\n\u001b[0;32m     18\u001b[0m \u001b[38;5;66;03m#build the model\u001b[39;00m\n\u001b[1;32m---> 19\u001b[0m model\u001b[38;5;241m=\u001b[39m create_model()\n",
      "Cell \u001b[1;32mIn[11], line 7\u001b[0m, in \u001b[0;36mcreate_model\u001b[1;34m()\u001b[0m\n\u001b[0;32m      4\u001b[0m \u001b[38;5;66;03m#input_shape = (height==10, width==10, channels==2)  # Replace with your actual input shape\u001b[39;00m\n\u001b[0;32m      6\u001b[0m model \u001b[38;5;241m=\u001b[39m Sequential()\n\u001b[1;32m----> 7\u001b[0m model\u001b[38;5;241m.\u001b[39madd(Conv2D(\u001b[38;5;241m32\u001b[39m, kernel_size\u001b[38;5;241m=\u001b[39m(\u001b[38;5;241m3\u001b[39m, \u001b[38;5;241m3\u001b[39m), activation\u001b[38;5;241m=\u001b[39m\u001b[38;5;124m'\u001b[39m\u001b[38;5;124mrelu\u001b[39m\u001b[38;5;124m'\u001b[39m))\n\u001b[0;32m      8\u001b[0m model\u001b[38;5;241m.\u001b[39madd(Conv2D(\u001b[38;5;241m64\u001b[39m, (\u001b[38;5;241m3\u001b[39m, \u001b[38;5;241m3\u001b[39m), activation\u001b[38;5;241m=\u001b[39m\u001b[38;5;124m'\u001b[39m\u001b[38;5;124mrelu\u001b[39m\u001b[38;5;124m'\u001b[39m))\n\u001b[0;32m      9\u001b[0m model\u001b[38;5;241m.\u001b[39madd(MaxPooling2D(pool_size\u001b[38;5;241m=\u001b[39m(\u001b[38;5;241m2\u001b[39m, \u001b[38;5;241m2\u001b[39m)))\n",
      "\u001b[1;31mNameError\u001b[0m: name 'Conv2D' is not defined"
     ]
    },
    {
     "name": "stderr",
     "output_type": "stream",
     "text": [
      "C:\\Users\\ADMIN\\AppData\\Local\\Temp\\ipykernel_13812\\173692970.py:17: DeprecationWarning: ANTIALIAS is deprecated and will be removed in Pillow 10 (2023-07-01). Use LANCZOS or Resampling.LANCZOS instead.\n",
      "  img_resized = img_gray.resize((28, 28), Image.ANTIALIAS)\n"
     ]
    },
    {
     "name": "stdout",
     "output_type": "stream",
     "text": [
      "1/1 [==============================] - 0s 159ms/step\n"
     ]
    }
   ],
   "source": [
    "#define a CNN model \n",
    "def create_model():\n",
    "    num_classes = 10\n",
    "    #input_shape = (height==10, width==10, channels==2)  # Replace with your actual input shape\n",
    "\n",
    "    model = Sequential()\n",
    "    model.add(Conv2D(32, kernel_size=(3, 3), activation='relu'))\n",
    "    model.add(Conv2D(64, (3, 3), activation='relu'))\n",
    "    model.add(MaxPooling2D(pool_size=(2, 2)))\n",
    "    model.add(Dropout(0.25))\n",
    "    model.add(Flatten())\n",
    "    model.add(Dense(256, activation='relu'))\n",
    "    model.add(Dropout(0.5))\n",
    "    model.add(Dense(num_classes, activation='softmax'))\n",
    "    model.compile(loss='categorical_crossentropy', optimizer='adam', metrics=['accuracy'])\n",
    "    \n",
    "    return model\n",
    "#build the model\n",
    "model= create_model()"
   ]
  },
  {
   "cell_type": "code",
   "execution_count": null,
   "id": "15a96304",
   "metadata": {},
   "outputs": [],
   "source": [
    "#fit the model\n",
    "model.fit(X_train, y_train, validation_data= (X_test, y_test), epochs=10, batch_size=200, verbose=2)\n",
    "print(\"The model has successfully trained\")\n",
    "#Save the model\n",
    "model.save('model.h5')\n",
    "print(\"The model has successfully saved\")"
   ]
  },
  {
   "cell_type": "code",
   "execution_count": null,
   "id": "750de107",
   "metadata": {},
   "outputs": [],
   "source": [
    "#Evaluate the model\n",
    "scores =model.evaluate(X_test, y_test, verbose=0)\n",
    "print(\"CNN Error: %.2f88\" % (100-scores [1]*100))"
   ]
  },
  {
   "cell_type": "code",
   "execution_count": null,
   "id": "0d0f24c6",
   "metadata": {},
   "outputs": [],
   "source": [
    "%matplotlib inline\n"
   ]
  },
  {
   "cell_type": "code",
   "execution_count": 7,
   "id": "488def1a",
   "metadata": {},
   "outputs": [],
   "source": [
    "#import libraries\n",
    "import os\n",
    "import PIL\n",
    "import cv2\n",
    "import glob\n",
    "import numpy as np\n",
    "from tkinter import *\n",
    "from PIL import Image, ImageDraw, ImageGrab"
   ]
  },
  {
   "cell_type": "code",
   "execution_count": 8,
   "id": "13cf4c6c",
   "metadata": {},
   "outputs": [
    {
     "name": "stdout",
     "output_type": "stream",
     "text": [
      "WARNING:tensorflow:From C:\\Users\\ADMIN\\anaconda3\\Lib\\site-packages\\keras\\src\\layers\\pooling\\max_pooling2d.py:161: The name tf.nn.max_pool is deprecated. Please use tf.nn.max_pool2d instead.\n",
      "\n",
      "Model load Successfully, Go for the APP\n"
     ]
    }
   ],
   "source": [
    "#load model\n",
    "from keras.models import load_model\n",
    "model =load_model(r'C:\\Users\\ADMIN\\Downloads\\model.h5')\n",
    "print(\"Model load Successfully, Go for the APP\")"
   ]
  },
  {
   "cell_type": "code",
   "execution_count": 10,
   "id": "66ded0cb",
   "metadata": {},
   "outputs": [
    {
     "name": "stdout",
     "output_type": "stream",
     "text": [
      "Running on local URL:  http://127.0.0.1:7860\n",
      "\n",
      "To create a public link, set `share=True` in `launch()`.\n"
     ]
    },
    {
     "data": {
      "text/html": [
       "<div><iframe src=\"http://127.0.0.1:7860/\" width=\"100%\" height=\"500\" allow=\"autoplay; camera; microphone; clipboard-read; clipboard-write;\" frameborder=\"0\" allowfullscreen></iframe></div>"
      ],
      "text/plain": [
       "<IPython.core.display.HTML object>"
      ]
     },
     "metadata": {},
     "output_type": "display_data"
    },
    {
     "data": {
      "text/plain": []
     },
     "execution_count": 10,
     "metadata": {},
     "output_type": "execute_result"
    }
   ],
   "source": [
    "import gradio as gr\n",
    "import numpy as np\n",
    "from keras.models import load_model\n",
    "from PIL import Image, ImageOps\n",
    "\n",
    "# Load the pre-trained model\n",
    "model = load_model('model.h5')\n",
    "\n",
    "def recognize_digit(image):\n",
    "    # Convert the Gradio Image object to a NumPy array\n",
    "    img_array = np.array(image)\n",
    "\n",
    "    # Convert RGB to grayscale\n",
    "    img_gray = ImageOps.grayscale(Image.fromarray(img_array))\n",
    "\n",
    "    # Resize the image to 28x28\n",
    "    img_resized = img_gray.resize((28, 28), Image.ANTIALIAS)\n",
    "\n",
    "    # Convert the image to a NumPy array and normalize\n",
    "    img_data = np.array(img_resized).reshape(1, 28, 28, 1).astype('float32') / 255.0\n",
    "\n",
    "    # Make prediction\n",
    "    pred = model.predict(img_data)[0]\n",
    "    final_pred = np.argmax(pred)\n",
    "    confidence = int(max(pred) * 100)\n",
    "\n",
    "    return f\"The predicted digit is {final_pred} with {confidence}% confidence.\"\n",
    "\n",
    "# Create a Gradio Interface\n",
    "iface = gr.Interface(fn=recognize_digit, inputs=\"image\", outputs=\"text\")\n",
    "iface.launch()\n"
   ]
  },
  {
   "cell_type": "code",
   "execution_count": null,
   "id": "1a0ff68e",
   "metadata": {},
   "outputs": [],
   "source": []
  }
 ],
 "metadata": {
  "kernelspec": {
   "display_name": "Python 3 (ipykernel)",
   "language": "python",
   "name": "python3"
  },
  "language_info": {
   "codemirror_mode": {
    "name": "ipython",
    "version": 3
   },
   "file_extension": ".py",
   "mimetype": "text/x-python",
   "name": "python",
   "nbconvert_exporter": "python",
   "pygments_lexer": "ipython3",
   "version": "3.11.5"
  }
 },
 "nbformat": 4,
 "nbformat_minor": 5
}
