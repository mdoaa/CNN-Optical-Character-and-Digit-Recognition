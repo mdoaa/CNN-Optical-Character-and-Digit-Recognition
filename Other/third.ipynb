{
 "cells": [
  {
   "cell_type": "code",
   "execution_count": 2,
   "id": "f2704e7a",
   "metadata": {},
   "outputs": [
    {
     "name": "stdout",
     "output_type": "stream",
     "text": [
      "WARNING:tensorflow:From C:\\Users\\ADMIN\\anaconda3\\Lib\\site-packages\\keras\\src\\losses.py:2976: The name tf.losses.sparse_softmax_cross_entropy is deprecated. Please use tf.compat.v1.losses.sparse_softmax_cross_entropy instead.\n",
      "\n"
     ]
    }
   ],
   "source": [
    "import numpy as np\n",
    "import matplotlib.pyplot as plt\n",
    "import seaborn as sns\n",
    "import cv2\n",
    "from PIL import Image\n",
    "import tensorflow as tf\n",
    "tf.random.set_seed(3)\n",
    "from tensorflow import keras\n",
    "from keras.datasets import mnist\n",
    "from tensorflow.math import confusion_matrix\n",
    "import pandas as pd"
   ]
  },
  {
   "cell_type": "code",
   "execution_count": 5,
   "id": "ec2a5aab",
   "metadata": {},
   "outputs": [],
   "source": [
    "(X_train, Y_train), (X_test, Y_test) =  mnist.load_data()"
   ]
  },
  {
   "cell_type": "code",
   "execution_count": 6,
   "id": "9eadac76",
   "metadata": {},
   "outputs": [],
   "source": [
    "XX_train=pd.read_csv('csvTrainImages 60k x 784.csv')\n",
    "YY_train=pd.read_csv('csvTrainLabel 60k x 1.csv')\n",
    "XX_test=pd.read_csv('csvTestImages 10k x 784.csv')\n",
    "YY_test=pd.read_csv('csvTestLabel 10k x 1.csv')\n",
    "X_train=np.append(np.array(XX_train).reshape([len(XX_train),28,28]),X_train,axis=0)\n",
    "X_test=np.append(np.array(XX_test).reshape([len(XX_test),28,28]),X_test,axis=0)\n",
    "def change_shape(YY_train,Y_train):\n",
    "  test=[]\n",
    "  Y_train=np.array(Y_train)\n",
    "  for i in np.nditer(YY_train):test.append(i+10)\n",
    "  for i in np.nditer(Y_train):test.append(i)\n",
    "  return np.array(test)\n",
    "Y_train=change_shape(YY_train,Y_train)\n",
    "Y_test=change_shape(YY_test,Y_test)"
   ]
  },
  {
   "cell_type": "code",
   "execution_count": 7,
   "id": "46fa14c5",
   "metadata": {},
   "outputs": [
    {
     "data": {
      "image/png": "[encoded data removed]",
      "text/plain": [
       "<Figure size 640x480 with 1 Axes>"
      ]
     },
     "metadata": {},
     "output_type": "display_data"
    },
    {
     "name": "stdout",
     "output_type": "stream",
     "text": [
      "11\n"
     ]
    }
   ],
   "source": [
    "# displaying the image\n",
    "\n",
    "plt.imshow(X_train[520])\n",
    "plt.show()\n",
    "\n",
    "# print the corresponding label\n",
    "print(Y_train[520])"
   ]
  },
  {
   "cell_type": "code",
   "execution_count": 8,
   "id": "3cf893c9",
   "metadata": {},
   "outputs": [
    {
     "name": "stdout",
     "output_type": "stream",
     "text": [
      "(119999,) (19999,)\n"
     ]
    }
   ],
   "source": [
    "print(Y_train.shape, Y_test.shape)"
   ]
  },
  {
   "cell_type": "code",
   "execution_count": 9,
   "id": "1dae93a6",
   "metadata": {},
   "outputs": [
    {
     "name": "stdout",
     "output_type": "stream",
     "text": [
      "[ 0  1  2  3  4  5  6  7  8  9 10 11 12 13 14 15 16 17 18 19]\n",
      "[ 0  1  2  3  4  5  6  7  8  9 10 11 12 13 14 15 16 17 18 19]\n"
     ]
    }
   ],
   "source": [
    "# unique values in Y_train\n",
    "print(np.unique(Y_train))\n",
    "\n",
    "# unique values in Y_test\n",
    "print(np.unique(Y_test))"
   ]
  },
  {
   "cell_type": "code",
   "execution_count": 10,
   "id": "0daa8c67",
   "metadata": {},
   "outputs": [],
   "source": [
    "# scaling the values\n",
    "\n",
    "X_train = X_train/255\n",
    "X_test = X_test/255"
   ]
  },
  {
   "cell_type": "code",
   "execution_count": 11,
   "id": "3a0fc319",
   "metadata": {},
   "outputs": [
    {
     "name": "stdout",
     "output_type": "stream",
     "text": [
      "WARNING:tensorflow:From C:\\Users\\ADMIN\\anaconda3\\Lib\\site-packages\\keras\\src\\backend.py:873: The name tf.get_default_graph is deprecated. Please use tf.compat.v1.get_default_graph instead.\n",
      "\n"
     ]
    }
   ],
   "source": [
    "# setting up the layers of the Neural  Network\n",
    "\n",
    "model = keras.Sequential([\n",
    "                          keras.layers.Flatten(input_shape=(28,28)),\n",
    "                          keras.layers.Dense(50, activation='relu'),\n",
    "                          keras.layers.Dense(50, activation='relu'),\n",
    "                          keras.layers.Dense(20, activation='sigmoid')\n",
    "])"
   ]
  },
  {
   "cell_type": "code",
   "execution_count": 12,
   "id": "d355b294",
   "metadata": {},
   "outputs": [
    {
     "name": "stdout",
     "output_type": "stream",
     "text": [
      "WARNING:tensorflow:From C:\\Users\\ADMIN\\anaconda3\\Lib\\site-packages\\keras\\src\\optimizers\\__init__.py:309: The name tf.train.Optimizer is deprecated. Please use tf.compat.v1.train.Optimizer instead.\n",
      "\n",
      "(119999,)\n"
     ]
    }
   ],
   "source": [
    "# compiling the Neural Network\n",
    "\n",
    "model.compile(optimizer='adam',\n",
    "              loss = 'sparse_categorical_crossentropy',\n",
    "              metrics=['accuracy'])\n",
    "print(Y_train.shape)"
   ]
  },
  {
   "cell_type": "code",
   "execution_count": 13,
   "id": "c9836276",
   "metadata": {},
   "outputs": [
    {
     "name": "stdout",
     "output_type": "stream",
     "text": [
      "Epoch 1/20\n",
      "WARNING:tensorflow:From C:\\Users\\ADMIN\\anaconda3\\Lib\\site-packages\\keras\\src\\utils\\tf_utils.py:492: The name tf.ragged.RaggedTensorValue is deprecated. Please use tf.compat.v1.ragged.RaggedTensorValue instead.\n",
      "\n",
      "WARNING:tensorflow:From C:\\Users\\ADMIN\\anaconda3\\Lib\\site-packages\\keras\\src\\engine\\base_layer_utils.py:384: The name tf.executing_eagerly_outside_functions is deprecated. Please use tf.compat.v1.executing_eagerly_outside_functions instead.\n",
      "\n",
      "3750/3750 [==============================] - 7s 2ms/step - loss: 0.2864 - accuracy: 0.9218\n",
      "Epoch 2/20\n",
      "3750/3750 [==============================] - 7s 2ms/step - loss: 0.1277 - accuracy: 0.9635\n",
      "Epoch 3/20\n",
      "3750/3750 [==============================] - 6s 2ms/step - loss: 0.0997 - accuracy: 0.9711\n",
      "Epoch 4/20\n",
      "3750/3750 [==============================] - 6s 2ms/step - loss: 0.0826 - accuracy: 0.9754\n",
      "Epoch 5/20\n",
      "3750/3750 [==============================] - 6s 2ms/step - loss: 0.0722 - accuracy: 0.9783\n",
      "Epoch 6/20\n",
      "3750/3750 [==============================] - 6s 2ms/step - loss: 0.0616 - accuracy: 0.9806\n",
      "Epoch 7/20\n",
      "3750/3750 [==============================] - 7s 2ms/step - loss: 0.0565 - accuracy: 0.9823\n",
      "Epoch 8/20\n",
      "3750/3750 [==============================] - 6s 2ms/step - loss: 0.0497 - accuracy: 0.9845\n",
      "Epoch 9/20\n",
      "3750/3750 [==============================] - 6s 2ms/step - loss: 0.0452 - accuracy: 0.9856\n",
      "Epoch 10/20\n",
      "3750/3750 [==============================] - 6s 2ms/step - loss: 0.0415 - accuracy: 0.9869\n",
      "Epoch 11/20\n",
      "3750/3750 [==============================] - 6s 2ms/step - loss: 0.0384 - accuracy: 0.9876\n",
      "Epoch 12/20\n",
      "3750/3750 [==============================] - 6s 2ms/step - loss: 0.0350 - accuracy: 0.9886\n",
      "Epoch 13/20\n",
      "3750/3750 [==============================] - 6s 2ms/step - loss: 0.0333 - accuracy: 0.9894\n",
      "Epoch 14/20\n",
      "3750/3750 [==============================] - 6s 2ms/step - loss: 0.0310 - accuracy: 0.9898\n",
      "Epoch 15/20\n",
      "3750/3750 [==============================] - 6s 2ms/step - loss: 0.0295 - accuracy: 0.9902\n",
      "Epoch 16/20\n",
      "3750/3750 [==============================] - 6s 2ms/step - loss: 0.0278 - accuracy: 0.9907\n",
      "Epoch 17/20\n",
      "3750/3750 [==============================] - 6s 2ms/step - loss: 0.0263 - accuracy: 0.9913\n",
      "Epoch 18/20\n",
      "3750/3750 [==============================] - 6s 2ms/step - loss: 0.0239 - accuracy: 0.9919\n",
      "Epoch 19/20\n",
      "3750/3750 [==============================] - 6s 2ms/step - loss: 0.0250 - accuracy: 0.9919\n",
      "Epoch 20/20\n",
      "3750/3750 [==============================] - 6s 2ms/step - loss: 0.0222 - accuracy: 0.9925\n"
     ]
    },
    {
     "data": {
      "text/plain": [
       "<keras.src.callbacks.History at 0x2b75abda550>"
      ]
     },
     "execution_count": 13,
     "metadata": {},
     "output_type": "execute_result"
    }
   ],
   "source": [
    "# training the Neural Network\n",
    "\n",
    "model.fit(X_train, Y_train, epochs=20)"
   ]
  },
  {
   "cell_type": "code",
   "execution_count": 14,
   "id": "dffcaf1b",
   "metadata": {},
   "outputs": [
    {
     "name": "stdout",
     "output_type": "stream",
     "text": [
      "625/625 [==============================] - 1s 1ms/step - loss: 0.1423 - accuracy: 0.9721\n",
      "97.2148597240448\n"
     ]
    }
   ],
   "source": [
    "loss, accuracy = model.evaluate(X_test, Y_test)\n",
    "print(accuracy*100)"
   ]
  },
  {
   "cell_type": "code",
   "execution_count": 15,
   "id": "c192f254",
   "metadata": {},
   "outputs": [
    {
     "name": "stdout",
     "output_type": "stream",
     "text": [
      "(19999, 28, 28)\n"
     ]
    }
   ],
   "source": [
    "print(X_test.shape)"
   ]
  },
  {
   "cell_type": "code",
   "execution_count": 16,
   "id": "0ef3292f",
   "metadata": {},
   "outputs": [
    {
     "data": {
      "image/png": "[encoded data removed]",
      "text/plain": [
       "<Figure size 640x480 with 1 Axes>"
      ]
     },
     "metadata": {},
     "output_type": "display_data"
    }
   ],
   "source": [
    "plt.imshow(X_test[0])\n",
    "plt.show()"
   ]
  },
  {
   "cell_type": "code",
   "execution_count": 19,
   "id": "3b52f992",
   "metadata": {},
   "outputs": [
    {
     "data": {
      "image/png": "[encoded data removed]",
      "text/plain": [
       "<Figure size 640x480 with 1 Axes>"
      ]
     },
     "metadata": {},
     "output_type": "display_data"
    }
   ],
   "source": [
    "plt.imshow(X_test[10000])\n",
    "plt.show()"
   ]
  },
  {
   "cell_type": "code",
   "execution_count": null,
   "id": "65ca0299",
   "metadata": {},
   "outputs": [],
   "source": []
  }
 ],
 "metadata": {
  "kernelspec": {
   "display_name": "Python 3 (ipykernel)",
   "language": "python",
   "name": "python3"
  },
  "language_info": {
   "codemirror_mode": {
    "name": "ipython",
    "version": 3
   },
   "file_extension": ".py",
   "mimetype": "text/x-python",
   "name": "python",
   "nbconvert_exporter": "python",
   "pygments_lexer": "ipython3",
   "version": "3.11.5"
  }
 },
 "nbformat": 4,
 "nbformat_minor": 5
}
